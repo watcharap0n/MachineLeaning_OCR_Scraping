{
 "cells": [
  {
   "cell_type": "code",
   "execution_count": 17,
   "outputs": [
    {
     "name": "stdout",
     "output_type": "stream",
     "text": [
      "Waiting for the operation to finish.\n",
      "Output files:\n",
      "resultoutput-1-to-1.json\n"
     ]
    }
   ],
   "source": [
    "import os\n",
    "import re\n",
    "from google.cloud import vision\n",
    "from google.cloud import storage\n",
    "\n",
    "os.environ['GOOGLE_APPLICATION_CREDENTIALS'] = r'config/config_ocr.json'\n",
    "\n",
    "mime_type = 'application/pdf'\n",
    "batch_size = 2\n",
    "client = vision.ImageAnnotatorClient()\n",
    "\n",
    "feature = vision.Feature(\n",
    "type_=vision.Feature.Type.DOCUMENT_TEXT_DETECTION)\n",
    "\n",
    "gcs_source_uri = 'gs://chatbot-mango.appspot.com/1.pdf'\n",
    "gsc_destination_uri = 'gs://chatbot-mango.appspot.com/result'\n",
    "gcs_source = vision.GcsSource(uri=gcs_source_uri)\n",
    "input_config = vision.InputConfig(\n",
    "gcs_source=gcs_source, mime_type=mime_type)\n",
    "\n",
    "gcs_destination = vision.GcsDestination(uri=gsc_destination_uri)\n",
    "output_config = vision.OutputConfig(\n",
    "gcs_destination=gcs_destination, batch_size=batch_size)\n",
    "\n",
    "async_request = vision.AsyncAnnotateFileRequest(\n",
    "features=[feature], input_config=input_config,\n",
    "output_config=output_config)\n",
    "\n",
    "operation = client.async_batch_annotate_files(\n",
    "requests=[async_request])\n",
    "\n",
    "print('Waiting for the operation to finish.')\n",
    "operation.result(timeout=420)\n",
    "storage_client = storage.Client()\n",
    "\n",
    "match = re.match(r'gs://([^/]+)/(.+)', gsc_destination_uri)\n",
    "bucket_name = match.group(1)\n",
    "prefix = match.group(2)\n",
    "\n",
    "bucket = storage_client.get_bucket(bucket_name)\n",
    "\n",
    "# List objects with the given prefix.\n",
    "blob_list = list(bucket.list_blobs(prefix=prefix))\n",
    "print('Output files:')\n",
    "for blob in blob_list:\n",
    "    print(blob.name)"
   ],
   "metadata": {
    "collapsed": false,
    "pycharm": {
     "name": "#%%\n"
    }
   }
  },
  {
   "cell_type": "code",
   "execution_count": 17,
   "outputs": [],
   "source": [],
   "metadata": {
    "collapsed": false,
    "pycharm": {
     "name": "#%%\n"
    }
   }
  }
 ],
 "metadata": {
  "kernelspec": {
   "display_name": "Python 3",
   "language": "python",
   "name": "python3"
  },
  "language_info": {
   "codemirror_mode": {
    "name": "ipython",
    "version": 3
   },
   "file_extension": ".py",
   "mimetype": "text/x-python",
   "name": "python",
   "nbconvert_exporter": "python",
   "pygments_lexer": "ipython3",
   "version": "3.8.6"
  }
 },
 "nbformat": 4,
 "nbformat_minor": 5
}