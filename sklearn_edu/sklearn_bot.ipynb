{
 "cells": [
  {
   "cell_type": "code",
   "execution_count": 321,
   "metadata": {
    "collapsed": true,
    "pycharm": {
     "name": "#%%\n"
    }
   },
   "outputs": [
    {
     "data": {
      "text/plain": "['สวัสดี',\n 'เป็น',\n 'อย่าง',\n 'ไร',\n 'บ้าง',\n 'สบายดี',\n 'ไหม',\n 'สบายดี',\n 'ไหม',\n 'สวัสดี']"
     },
     "execution_count": 321,
     "metadata": {},
     "output_type": "execute_result"
    }
   ],
   "source": [
    "from sklearn import svm\n",
    "from attacut import tokenize\n",
    "from sklearn.feature_extraction.text import CountVectorizer, TfidfTransformer\n",
    "from sklearn.neighbors import KNeighborsClassifier\n",
    "\n",
    "\n",
    "x = ['สวัสดีเป็นอย่างไรบ้างสบายดีไหมสบายดีไหมสวัสดี', 'ชื่ออะไรชื่อนามสกุลชื่อของเธอชื่อจริงนามสกุลครับค่ะคะ', 'ราคาเท่าไหร่ขอราคาหน่อยราคาเป็นมิตรไหมราคาอยู่ที่เท่าไหร่คะค่ะครับ']\n",
    "y = ['สบายดีมากๆๆ', 'ไม่บอก', '20 บาท']\n",
    "embedding = [i for i in range(len(y))]\n",
    "test1 = 'สวัสดีเป็นอย่างไรบ้างสบายดีไหมสบายดีไหมสวัสดี'\n",
    "test2 = 'ชื่ออะไรชื่อนามสกุลชื่อของเธอชื่อจริงนามสกุล'\n",
    "\n",
    "tokenize(test1)"
   ]
  },
  {
   "cell_type": "code",
   "execution_count": 322,
   "outputs": [
    {
     "data": {
      "text/plain": "['ชื่อ',\n 'อะไร',\n 'ชื่อ',\n 'นาม',\n 'สกุล',\n 'ชื่อ',\n 'ของ',\n 'เธอ',\n 'ชื่อ',\n 'จริง',\n 'นาม',\n 'สกุล']"
     },
     "execution_count": 322,
     "metadata": {},
     "output_type": "execute_result"
    }
   ],
   "source": [
    "tokenize(test2)"
   ],
   "metadata": {
    "collapsed": false,
    "pycharm": {
     "name": "#%%\n"
    }
   }
  },
  {
   "cell_type": "code",
   "execution_count": 323,
   "outputs": [
    {
     "data": {
      "text/plain": "(3, 25)"
     },
     "execution_count": 323,
     "metadata": {},
     "output_type": "execute_result"
    }
   ],
   "source": [
    "count_vector = CountVectorizer(tokenizer=tokenize)\n",
    "tf_transformer = TfidfTransformer(use_idf=False)\n",
    "x_train_count = count_vector.fit_transform(x)\n",
    "x_train_count.shape"
   ],
   "metadata": {
    "collapsed": false,
    "pycharm": {
     "name": "#%%\n"
    }
   }
  },
  {
   "cell_type": "code",
   "execution_count": 324,
   "outputs": [
    {
     "name": "stdout",
     "output_type": "stream",
     "text": [
      "  (0, 9)\t0.25\n",
      "  (0, 13)\t0.5\n",
      "  (0, 14)\t0.5\n",
      "  (0, 17)\t0.25\n",
      "  (0, 21)\t0.25\n",
      "  (0, 22)\t0.25\n",
      "  (0, 23)\t0.5\n",
      "  (1, 1)\t0.1796053020267749\n",
      "  (1, 2)\t0.1796053020267749\n",
      "  (1, 3)\t0.1796053020267749\n",
      "  (1, 4)\t0.1796053020267749\n",
      "  (1, 5)\t0.1796053020267749\n",
      "  (1, 6)\t0.7184212081070996\n",
      "  (1, 8)\t0.3592106040535498\n",
      "  (1, 12)\t0.3592106040535498\n",
      "  (1, 18)\t0.1796053020267749\n",
      "  (1, 20)\t0.1796053020267749\n",
      "  (2, 0)\t0.17149858514250882\n",
      "  (2, 2)\t0.17149858514250882\n",
      "  (2, 3)\t0.17149858514250882\n",
      "  (2, 4)\t0.17149858514250882\n",
      "  (2, 7)\t0.17149858514250882\n",
      "  (2, 10)\t0.17149858514250882\n",
      "  (2, 11)\t0.6859943405700353\n",
      "  (2, 15)\t0.17149858514250882\n",
      "  (2, 16)\t0.17149858514250882\n",
      "  (2, 19)\t0.34299717028501764\n",
      "  (2, 21)\t0.17149858514250882\n",
      "  (2, 23)\t0.17149858514250882\n",
      "  (2, 24)\t0.34299717028501764\n"
     ]
    }
   ],
   "source": [
    "tf_transformer.fit(x_train_count)\n",
    "x_train_tf = tf_transformer.transform(x_train_count)\n",
    "print(x_train_tf)"
   ],
   "metadata": {
    "collapsed": false,
    "pycharm": {
     "name": "#%%\n"
    }
   }
  },
  {
   "cell_type": "code",
   "execution_count": 325,
   "outputs": [
    {
     "name": "stdout",
     "output_type": "stream",
     "text": [
      "  (0, 2)\t0.5773502691896258\n",
      "  (0, 6)\t0.5773502691896258\n",
      "  (0, 18)\t0.5773502691896258\n"
     ]
    }
   ],
   "source": [
    "SVM = svm.SVC(C=1.0, kernel='linear', degree=3,\n",
    "                  gamma='auto', probability=True)\n",
    "my_classifier = KNeighborsClassifier(n_neighbors=2)\n",
    "my_classifier.fit(x_train_tf, embedding)\n",
    "msg = ['ชื่ออะไรครับ']\n",
    "x_test_count = count_vector.transform(msg)\n",
    "x_test_tf = tf_transformer.transform(x_test_count)\n",
    "print(x_test_tf)"
   ],
   "metadata": {
    "collapsed": false,
    "pycharm": {
     "name": "#%%\n"
    }
   }
  },
  {
   "cell_type": "code",
   "execution_count": 326,
   "outputs": [
    {
     "data": {
      "text/plain": "array([1])"
     },
     "execution_count": 326,
     "metadata": {},
     "output_type": "execute_result"
    }
   ],
   "source": [
    "prediction = my_classifier.predict(x_test_tf)\n",
    "proba = my_classifier.predict_proba(x_test_tf)[0][prediction]\n",
    "prediction"
   ],
   "metadata": {
    "collapsed": false,
    "pycharm": {
     "name": "#%%\n"
    }
   }
  },
  {
   "cell_type": "code",
   "execution_count": null,
   "outputs": [],
   "source": [
    "proba"
   ],
   "metadata": {
    "collapsed": false,
    "pycharm": {
     "name": "#%%\n",
     "is_executing": true
    }
   }
  },
  {
   "cell_type": "code",
   "execution_count": 327,
   "outputs": [],
   "source": [],
   "metadata": {
    "collapsed": false,
    "pycharm": {
     "name": "#%%\n"
    }
   }
  }
 ],
 "metadata": {
  "kernelspec": {
   "display_name": "Python 3",
   "language": "python",
   "name": "python3"
  },
  "language_info": {
   "codemirror_mode": {
    "name": "ipython",
    "version": 2
   },
   "file_extension": ".py",
   "mimetype": "text/x-python",
   "name": "python",
   "nbconvert_exporter": "python",
   "pygments_lexer": "ipython2",
   "version": "2.7.6"
  }
 },
 "nbformat": 4,
 "nbformat_minor": 0
}