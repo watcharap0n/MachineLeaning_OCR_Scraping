{
 "cells": [
  {
   "cell_type": "code",
   "execution_count": 8,
   "outputs": [
    {
     "data": {
      "text/plain": "DecisionTreeClassifier()"
     },
     "execution_count": 8,
     "metadata": {},
     "output_type": "execute_result"
    }
   ],
   "source": [
    "import numpy as np\n",
    "import pandas as pd\n",
    "from sklearn import neighbors, metrics, tree\n",
    "from sklearn.model_selection import train_test_split\n",
    "from collections import OrderedDict\n",
    "from sklearn.preprocessing import LabelEncoder\n",
    "from collections import OrderedDict\n",
    "\n",
    "data = pd.read_csv('../datasets/sklearn/iris.data.csv')\n",
    "data\n",
    "\n",
    "tree.DecisionTreeClassifier()"
   ],
   "metadata": {
    "collapsed": false,
    "pycharm": {
     "name": "#%%\n"
    }
   }
  },
  {
   "cell_type": "code",
   "execution_count": 9,
   "outputs": [
    {
     "data": {
      "text/plain": "   sepal_length  sepal_width  petal_length  petal_width\n0           5.1          3.5           1.4          0.2\n1           4.9          3.0           1.4          0.2\n2           4.7          3.2           1.3          0.2\n3           4.6          3.1           1.5          0.2\n4           5.0          3.6           1.4          0.2",
      "text/html": "<div>\n<style scoped>\n    .dataframe tbody tr th:only-of-type {\n        vertical-align: middle;\n    }\n\n    .dataframe tbody tr th {\n        vertical-align: top;\n    }\n\n    .dataframe thead th {\n        text-align: right;\n    }\n</style>\n<table border=\"1\" class=\"dataframe\">\n  <thead>\n    <tr style=\"text-align: right;\">\n      <th></th>\n      <th>sepal_length</th>\n      <th>sepal_width</th>\n      <th>petal_length</th>\n      <th>petal_width</th>\n    </tr>\n  </thead>\n  <tbody>\n    <tr>\n      <th>0</th>\n      <td>5.1</td>\n      <td>3.5</td>\n      <td>1.4</td>\n      <td>0.2</td>\n    </tr>\n    <tr>\n      <th>1</th>\n      <td>4.9</td>\n      <td>3.0</td>\n      <td>1.4</td>\n      <td>0.2</td>\n    </tr>\n    <tr>\n      <th>2</th>\n      <td>4.7</td>\n      <td>3.2</td>\n      <td>1.3</td>\n      <td>0.2</td>\n    </tr>\n    <tr>\n      <th>3</th>\n      <td>4.6</td>\n      <td>3.1</td>\n      <td>1.5</td>\n      <td>0.2</td>\n    </tr>\n    <tr>\n      <th>4</th>\n      <td>5.0</td>\n      <td>3.6</td>\n      <td>1.4</td>\n      <td>0.2</td>\n    </tr>\n  </tbody>\n</table>\n</div>"
     },
     "execution_count": 9,
     "metadata": {},
     "output_type": "execute_result"
    }
   ],
   "source": [
    "x = data[['sepal_length', 'sepal_width', 'petal_length', 'petal_width']]\n",
    "\n",
    "x.head()"
   ],
   "metadata": {
    "collapsed": false,
    "pycharm": {
     "name": "#%%\n"
    }
   }
  },
  {
   "cell_type": "code",
   "execution_count": 10,
   "outputs": [
    {
     "data": {
      "text/plain": "         class\n0  Iris-setosa\n1  Iris-setosa\n2  Iris-setosa\n3  Iris-setosa\n4  Iris-setosa",
      "text/html": "<div>\n<style scoped>\n    .dataframe tbody tr th:only-of-type {\n        vertical-align: middle;\n    }\n\n    .dataframe tbody tr th {\n        vertical-align: top;\n    }\n\n    .dataframe thead th {\n        text-align: right;\n    }\n</style>\n<table border=\"1\" class=\"dataframe\">\n  <thead>\n    <tr style=\"text-align: right;\">\n      <th></th>\n      <th>class</th>\n    </tr>\n  </thead>\n  <tbody>\n    <tr>\n      <th>0</th>\n      <td>Iris-setosa</td>\n    </tr>\n    <tr>\n      <th>1</th>\n      <td>Iris-setosa</td>\n    </tr>\n    <tr>\n      <th>2</th>\n      <td>Iris-setosa</td>\n    </tr>\n    <tr>\n      <th>3</th>\n      <td>Iris-setosa</td>\n    </tr>\n    <tr>\n      <th>4</th>\n      <td>Iris-setosa</td>\n    </tr>\n  </tbody>\n</table>\n</div>"
     },
     "execution_count": 10,
     "metadata": {},
     "output_type": "execute_result"
    }
   ],
   "source": [
    "pre_y = data[['class']]\n",
    "pre_y.head()"
   ],
   "metadata": {
    "collapsed": false,
    "pycharm": {
     "name": "#%%\n"
    }
   }
  },
  {
   "cell_type": "code",
   "execution_count": 11,
   "outputs": [
    {
     "name": "stderr",
     "output_type": "stream",
     "text": [
      "/Users/kanew/Documents/GitHub/MachineLeaning_OCR_Scraping_by_kane/venv/lib/python3.9/site-packages/sklearn/utils/validation.py:63: DataConversionWarning: A column-vector y was passed when a 1d array was expected. Please change the shape of y to (n_samples, ), for example using ravel().\n",
      "  return f(*args, **kwargs)\n"
     ]
    },
    {
     "data": {
      "text/plain": "['Iris-setosa',\n 'Iris-setosa',\n 'Iris-setosa',\n 'Iris-setosa',\n 'Iris-setosa',\n 'Iris-setosa',\n 'Iris-setosa',\n 'Iris-setosa',\n 'Iris-setosa',\n 'Iris-setosa',\n 'Iris-setosa',\n 'Iris-setosa',\n 'Iris-setosa',\n 'Iris-setosa',\n 'Iris-setosa',\n 'Iris-setosa',\n 'Iris-setosa',\n 'Iris-setosa',\n 'Iris-setosa',\n 'Iris-setosa',\n 'Iris-setosa',\n 'Iris-setosa',\n 'Iris-setosa',\n 'Iris-setosa',\n 'Iris-setosa',\n 'Iris-setosa',\n 'Iris-setosa',\n 'Iris-setosa',\n 'Iris-setosa',\n 'Iris-setosa',\n 'Iris-setosa',\n 'Iris-setosa',\n 'Iris-setosa',\n 'Iris-setosa',\n 'Iris-setosa',\n 'Iris-setosa',\n 'Iris-setosa',\n 'Iris-setosa',\n 'Iris-setosa',\n 'Iris-setosa',\n 'Iris-setosa',\n 'Iris-setosa',\n 'Iris-setosa',\n 'Iris-setosa',\n 'Iris-setosa',\n 'Iris-setosa',\n 'Iris-setosa',\n 'Iris-setosa',\n 'Iris-setosa',\n 'Iris-setosa',\n 'Iris-versicolor',\n 'Iris-versicolor',\n 'Iris-versicolor',\n 'Iris-versicolor',\n 'Iris-versicolor',\n 'Iris-versicolor',\n 'Iris-versicolor',\n 'Iris-versicolor',\n 'Iris-versicolor',\n 'Iris-versicolor',\n 'Iris-versicolor',\n 'Iris-versicolor',\n 'Iris-versicolor',\n 'Iris-versicolor',\n 'Iris-versicolor',\n 'Iris-versicolor',\n 'Iris-versicolor',\n 'Iris-versicolor',\n 'Iris-versicolor',\n 'Iris-versicolor',\n 'Iris-versicolor',\n 'Iris-versicolor',\n 'Iris-versicolor',\n 'Iris-versicolor',\n 'Iris-versicolor',\n 'Iris-versicolor',\n 'Iris-versicolor',\n 'Iris-versicolor',\n 'Iris-versicolor',\n 'Iris-versicolor',\n 'Iris-versicolor',\n 'Iris-versicolor',\n 'Iris-versicolor',\n 'Iris-versicolor',\n 'Iris-versicolor',\n 'Iris-versicolor',\n 'Iris-versicolor',\n 'Iris-versicolor',\n 'Iris-versicolor',\n 'Iris-versicolor',\n 'Iris-versicolor',\n 'Iris-versicolor',\n 'Iris-versicolor',\n 'Iris-versicolor',\n 'Iris-versicolor',\n 'Iris-versicolor',\n 'Iris-versicolor',\n 'Iris-versicolor',\n 'Iris-versicolor',\n 'Iris-versicolor',\n 'Iris-virginica',\n 'Iris-virginica',\n 'Iris-virginica',\n 'Iris-virginica',\n 'Iris-virginica',\n 'Iris-virginica',\n 'Iris-virginica',\n 'Iris-virginica',\n 'Iris-virginica',\n 'Iris-virginica',\n 'Iris-virginica',\n 'Iris-virginica',\n 'Iris-virginica',\n 'Iris-virginica',\n 'Iris-virginica',\n 'Iris-virginica',\n 'Iris-virginica',\n 'Iris-virginica',\n 'Iris-virginica',\n 'Iris-virginica',\n 'Iris-virginica',\n 'Iris-virginica',\n 'Iris-virginica',\n 'Iris-virginica',\n 'Iris-virginica',\n 'Iris-virginica',\n 'Iris-virginica',\n 'Iris-virginica',\n 'Iris-virginica',\n 'Iris-virginica',\n 'Iris-virginica',\n 'Iris-virginica',\n 'Iris-virginica',\n 'Iris-virginica',\n 'Iris-virginica',\n 'Iris-virginica',\n 'Iris-virginica',\n 'Iris-virginica',\n 'Iris-virginica',\n 'Iris-virginica',\n 'Iris-virginica',\n 'Iris-virginica',\n 'Iris-virginica',\n 'Iris-virginica',\n 'Iris-virginica',\n 'Iris-virginica',\n 'Iris-virginica',\n 'Iris-virginica',\n 'Iris-virginica',\n 'Iris-virginica']"
     },
     "execution_count": 11,
     "metadata": {},
     "output_type": "execute_result"
    }
   ],
   "source": [
    "le = LabelEncoder()\n",
    "y = le.fit_transform(pre_y)\n",
    "y = np.array(y)\n",
    "label = list(OrderedDict.fromkeys((pre_y['class'])))\n",
    "label = [label[i] for i in y]\n",
    "label"
   ],
   "metadata": {
    "collapsed": false,
    "pycharm": {
     "name": "#%%\n"
    }
   }
  },
  {
   "cell_type": "code",
   "execution_count": 17,
   "outputs": [
    {
     "name": "stdout",
     "output_type": "stream",
     "text": [
      "1.0\n",
      "Iris-setosa\n",
      "Iris-setosa\n",
      "Iris-setosa\n",
      "Iris-setosa\n",
      "Iris-setosa\n",
      "Iris-setosa\n",
      "Iris-setosa\n",
      "Iris-setosa\n",
      "Iris-setosa\n",
      "Iris-setosa\n",
      "Iris-setosa\n",
      "Iris-setosa\n",
      "Iris-setosa\n",
      "Iris-setosa\n",
      "Iris-setosa\n",
      "Iris-setosa\n",
      "Iris-setosa\n",
      "Iris-setosa\n",
      "Iris-setosa\n",
      "Iris-setosa\n",
      "Iris-setosa\n",
      "Iris-setosa\n",
      "Iris-setosa\n",
      "Iris-setosa\n",
      "Iris-setosa\n",
      "Iris-setosa\n",
      "Iris-setosa\n",
      "Iris-setosa\n",
      "Iris-setosa\n",
      "Iris-setosa\n"
     ]
    }
   ],
   "source": [
    "my_classifier = neighbors.KNeighborsClassifier()\n",
    "x_train, x_test, y_train, y_test = train_test_split(x, y, test_size=.2)\n",
    "my_classifier.fit(x_train, y_train)\n",
    "prediction = my_classifier.predict(x_test)\n",
    "acc = metrics.accuracy_score(y_test, prediction)\n",
    "print(acc)\n",
    "for i in prediction:\n",
    "    print(label[i])\n"
   ],
   "metadata": {
    "collapsed": false,
    "pycharm": {
     "name": "#%%\n"
    }
   }
  },
  {
   "cell_type": "code",
   "execution_count": 12,
   "outputs": [],
   "source": [
    "\n"
   ],
   "metadata": {
    "collapsed": false,
    "pycharm": {
     "name": "#%%\n"
    }
   }
  }
 ],
 "metadata": {
  "kernelspec": {
   "display_name": "Python 3",
   "language": "python",
   "name": "python3"
  },
  "language_info": {
   "codemirror_mode": {
    "name": "ipython",
    "version": 2
   },
   "file_extension": ".py",
   "mimetype": "text/x-python",
   "name": "python",
   "nbconvert_exporter": "python",
   "pygments_lexer": "ipython2",
   "version": "2.7.6"
  }
 },
 "nbformat": 4,
 "nbformat_minor": 0
}